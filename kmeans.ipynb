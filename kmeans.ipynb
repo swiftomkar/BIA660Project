{
 "cells": [
  {
   "cell_type": "code",
   "execution_count": null,
   "metadata": {
    "collapsed": true
   },
   "outputs": [],
   "source": [
    "def cluster_kmean(file):\n",
    "    #for nClusters in range(4,5):\n",
    "        nClusters=3\n",
    "        data = pd.read_csv(file)\n",
    "        print(len(data))\n",
    "        print(data['text'][1])\n",
    "        print(len(data['Labels']))"
   ]
  },
  {
   "cell_type": "code",
   "execution_count": null,
   "metadata": {},
   "outputs": [],
   "source": [
    "EXTRA_STOP_WORDS = [\"http\", \"https\", \"iphone\", \"apple\", \"iphonexr\", \"xr\", \"vs\", \"iphonexsmax\",\n",
    "                        \"enter\", \"chance\", \"win\", \"64\", \"gb\", \"via\", \"youtube\", \"comparison\", \"new\", \"appreciated\"]\n",
    "stopwords = ENGLISH_STOP_WORDS.union(EXTRA_STOP_WORDS)\n",
    "\n",
    "tfidf_vect = TfidfVectorizer(stop_words=stopwords,min_df=5)\n",
    "dtm = tfidf_vect.fit_transform(data['text'])\n",
    "print(dtm.shape)\n",
    "voc_lookup = tfidf_vect.get_feature_names()"
   ]
  },
  {
   "cell_type": "code",
   "execution_count": null,
   "metadata": {},
   "outputs": [],
   "source": [
    "km = KMeans(n_clusters=nClusters,n_init=20).fit(dtm)\n",
    "clusters = km.labels_.tolist()\n",
    "print(km.labels_)\n",
    "\n",
    "centroidsskl = km.cluster_centers_\n",
    "print(centroidsskl)\n",
    "sorted_centroidsskl = centroidsskl.argsort()[:, ::-1]"
   ]
  },
  {
   "cell_type": "code",
   "execution_count": null,
   "metadata": {},
   "outputs": [],
   "source": [
    "km = KMeans(n_clusters=nClusters,n_init=20).fit(dtm)\n",
    "clusters = km.labels_.tolist()\n",
    "print(km.labels_)\n",
    "\n",
    "centroidsskl = km.cluster_centers_\n",
    "print(centroidsskl)\n",
    "sorted_centroidsskl = centroidsskl.argsort()[:, ::-1]"
   ]
  },
  {
   "cell_type": "code",
   "execution_count": null,
   "metadata": {},
   "outputs": [],
   "source": [
    "clusters = clusters[0:150]\n",
    "labels=data['Labels'][0:150]\n",
    "datum=pd.DataFrame()\n",
    "datum[\"label\"]=labels\n",
    "datum[\"clusters\"]=clusters\n",
    "print(pd.crosstab(index=datum['clusters'], columns=datum['label']))\n",
    "\n",
    "cluster_dict = {0: 1,\n",
    "                1: 2,\n",
    "                2: 3\n",
    "                }\n",
    "target = [cluster_dict[i] for i in clusters]\n",
    "print(type(target),type(labels))\n",
    "labelList=[]\n",
    "mylables=labels.tolist()\n",
    "for i in mylables:\n",
    "    labelList.append(int(i))\n",
    "\n",
    "print(len(labelList))\n",
    "print(len(target))\n",
    "print(type(target[0]))\n",
    "# Assign true class to cluster\n",
    "print(metrics.classification_report(labelList, target))\n",
    "plt.plot(km.labels_,data['created_at'])\n",
    "plt.show()"
   ]
  }
 ],
 "metadata": {
  "kernelspec": {
   "display_name": "Python 2",
   "language": "python",
   "name": "python2"
  },
  "language_info": {
   "codemirror_mode": {
    "name": "ipython",
    "version": 2
   },
   "file_extension": ".py",
   "mimetype": "text/x-python",
   "name": "python",
   "nbconvert_exporter": "python",
   "pygments_lexer": "ipython2",
   "version": "2.7.6"
  }
 },
 "nbformat": 4,
 "nbformat_minor": 0
}
